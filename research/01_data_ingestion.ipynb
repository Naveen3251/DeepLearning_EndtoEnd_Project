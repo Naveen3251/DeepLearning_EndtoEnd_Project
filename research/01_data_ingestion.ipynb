{
 "cells": [
  {
   "cell_type": "code",
   "execution_count": 1,
   "metadata": {},
   "outputs": [],
   "source": [
    "import os"
   ]
  },
  {
   "cell_type": "code",
   "execution_count": 2,
   "metadata": {},
   "outputs": [
    {
     "data": {
      "text/plain": [
       "'c:\\\\End_To_End_deeplearning\\\\DeepLearning_EndtoEnd_Project\\\\research'"
      ]
     },
     "execution_count": 2,
     "metadata": {},
     "output_type": "execute_result"
    }
   ],
   "source": [
    "%pwd"
   ]
  },
  {
   "cell_type": "code",
   "execution_count": 3,
   "metadata": {},
   "outputs": [],
   "source": [
    "#to go back one folder\n",
    "os.chdir(\"../\")"
   ]
  },
  {
   "cell_type": "code",
   "execution_count": 4,
   "metadata": {},
   "outputs": [
    {
     "data": {
      "text/plain": [
       "'c:\\\\End_To_End_deeplearning\\\\DeepLearning_EndtoEnd_Project'"
      ]
     },
     "execution_count": 4,
     "metadata": {},
     "output_type": "execute_result"
    }
   ],
   "source": [
    "%pwd"
   ]
  },
  {
   "cell_type": "code",
   "execution_count": 26,
   "metadata": {},
   "outputs": [],
   "source": [
    "from dataclasses import dataclass\n",
    "from pathlib import Path\n",
    "\n",
    "#entity\n",
    "@dataclass(frozen=True)\n",
    "class DataIngestionConfig:\n",
    "    root_dir:Path\n",
    "    source_URL:str\n",
    "    local_data_file:Path\n",
    "    unzip_dir:Path"
   ]
  },
  {
   "cell_type": "code",
   "execution_count": 27,
   "metadata": {},
   "outputs": [],
   "source": [
    "from src.CNNClassifier.constants import *\n",
    "from src.CNNClassifier.utils.common import read_yaml,create_directories"
   ]
  },
  {
   "cell_type": "code",
   "execution_count": 28,
   "metadata": {},
   "outputs": [],
   "source": [
    "#update configuration manager\n",
    "class ConfigurationManager:\n",
    "    def __init__(\n",
    "            self,\n",
    "            config_filepath = CONFIG_FILE_PATH,\n",
    "            params_filepath = PARAMS_FILE_PATH\n",
    "\n",
    "    ):\n",
    "        self.config=read_yaml(config_filepath)\n",
    "        self.params=read_yaml(params_filepath)\n",
    "        create_directories([self.config.artifacts_root])\n",
    "\n",
    "    \n",
    "    #data ingestion function\n",
    "    def get_data_ingestion_config(self)->DataIngestionConfig:\n",
    "        config=self.config.data_ingestion\n",
    "        create_directories([config.root_dir])\n",
    "        #return type of function\n",
    "        data_ingestion_config=DataIngestionConfig(\n",
    "            root_dir=config.root_dir,\n",
    "            source_URL=config.source_URL,\n",
    "            local_data_file=config.local_data_file,\n",
    "            unzip=config.unzip_dir\n",
    "        )\n",
    "\n",
    "        return data_ingestion_config\n",
    "\n",
    "        "
   ]
  },
  {
   "cell_type": "code",
   "execution_count": 29,
   "metadata": {},
   "outputs": [],
   "source": [
    "#update components\n",
    "import urllib.request as request # to download the data\n",
    "import zipfile #unzip the file\n",
    "from src.CNNClassifier import logger #custom logger\n",
    "from src.CNNClassifier.utils.common import get_size #to se the data soze"
   ]
  },
  {
   "cell_type": "code",
   "execution_count": 30,
   "metadata": {},
   "outputs": [],
   "source": [
    "class DataIngestion:\n",
    "    def __init__(self,config: DataIngestionConfig):\n",
    "        self.config=config\n",
    "    \n",
    "    #to dowload the file from github\n",
    "    def download_file(self):\n",
    "        #if data set is not in local system\n",
    "        if not os.path.exists(self.config.local_data_file):\n",
    "            filename,headers=request.urlretrieve(\n",
    "                url=self.config.source_URL,\n",
    "                filename=self.config.local_data_file\n",
    "            )\n",
    "            #to save the actions in log file\n",
    "            logger.info(f\"{filename} download! with following info: \\n{headers}\")\n",
    "        #if already stored in local\n",
    "        else:\n",
    "            #to save the actions in log file\n",
    "            logger.info(f\"File already exists of size: {get_size(Path(self.config.local_data_file))}\")\n",
    "\n",
    "    def extract_zip_file(self):\n",
    "        \"\"\"\n",
    "        zip_file_path: str\n",
    "        Extracts the zip file into the directory\n",
    "        fUnction returns None\n",
    "        \"\"\"\n",
    "        unzip_path=self.config.unzip_dir\n",
    "        os.makedirs(unzip_path,exist_ok=True)\n",
    "\n",
    "        with zipfile.ZipFile(self.config.local_data_file,'r') as zip_ref:\n",
    "            zip_ref.extractall(unzip_path)\n"
   ]
  },
  {
   "cell_type": "code",
   "execution_count": 31,
   "metadata": {},
   "outputs": [
    {
     "name": "stdout",
     "output_type": "stream",
     "text": [
      "[2023-07-15 13:22:48,250: INFO: common: yaml file: config\\config.yaml loaded successfully]\n",
      "[2023-07-15 13:22:48,252: INFO: common: yaml file: params.yaml loaded successfully]\n",
      "[2023-07-15 13:22:48,252: INFO: common: created directory at: artifacts]\n",
      "[2023-07-15 13:22:48,252: INFO: common: created directory at: artifacts/data_ingestion]\n"
     ]
    },
    {
     "ename": "TypeError",
     "evalue": "__init__() got an unexpected keyword argument 'unzip'",
     "output_type": "error",
     "traceback": [
      "\u001b[1;31m---------------------------------------------------------------------------\u001b[0m",
      "\u001b[1;31mTypeError\u001b[0m                                 Traceback (most recent call last)",
      "Cell \u001b[1;32mIn[31], line 9\u001b[0m\n\u001b[0;32m      6\u001b[0m     \u001b[39m#data_ingestion.download_file()\u001b[39;00m\n\u001b[0;32m      7\u001b[0m     \u001b[39m#data_ingestion.extract_zip_file()\u001b[39;00m\n\u001b[0;32m      8\u001b[0m \u001b[39mexcept\u001b[39;00m \u001b[39mException\u001b[39;00m \u001b[39mas\u001b[39;00m e:\n\u001b[1;32m----> 9\u001b[0m     \u001b[39mraise\u001b[39;00m e\n",
      "Cell \u001b[1;32mIn[31], line 4\u001b[0m\n\u001b[0;32m      2\u001b[0m \u001b[39mtry\u001b[39;00m:\n\u001b[0;32m      3\u001b[0m     config\u001b[39m=\u001b[39mConfigurationManager()\n\u001b[1;32m----> 4\u001b[0m     data_ingestion_config\u001b[39m=\u001b[39mconfig\u001b[39m.\u001b[39;49mget_data_ingestion_config()\n\u001b[0;32m      5\u001b[0m     data_ingestion\u001b[39m=\u001b[39mDataIngestion(config\u001b[39m=\u001b[39mdata_ingestion_config)\n\u001b[0;32m      6\u001b[0m     \u001b[39m#data_ingestion.download_file()\u001b[39;00m\n\u001b[0;32m      7\u001b[0m     \u001b[39m#data_ingestion.extract_zip_file()\u001b[39;00m\n",
      "Cell \u001b[1;32mIn[28], line 19\u001b[0m, in \u001b[0;36mConfigurationManager.get_data_ingestion_config\u001b[1;34m(self)\u001b[0m\n\u001b[0;32m     17\u001b[0m create_directories([config\u001b[39m.\u001b[39mroot_dir])\n\u001b[0;32m     18\u001b[0m \u001b[39m#return type of function\u001b[39;00m\n\u001b[1;32m---> 19\u001b[0m data_ingestion_config\u001b[39m=\u001b[39mDataIngestionConfig(\n\u001b[0;32m     20\u001b[0m     root_dir\u001b[39m=\u001b[39;49mconfig\u001b[39m.\u001b[39;49mroot_dir,\n\u001b[0;32m     21\u001b[0m     source_URL\u001b[39m=\u001b[39;49mconfig\u001b[39m.\u001b[39;49msource_URL,\n\u001b[0;32m     22\u001b[0m     local_data_file\u001b[39m=\u001b[39;49mconfig\u001b[39m.\u001b[39;49mlocal_data_file,\n\u001b[0;32m     23\u001b[0m     unzip\u001b[39m=\u001b[39;49mconfig\u001b[39m.\u001b[39;49munzip_dir\n\u001b[0;32m     24\u001b[0m )\n\u001b[0;32m     26\u001b[0m \u001b[39mreturn\u001b[39;00m data_ingestion_config\n",
      "\u001b[1;31mTypeError\u001b[0m: __init__() got an unexpected keyword argument 'unzip'"
     ]
    }
   ],
   "source": [
    "#pipeline\n",
    "try:\n",
    "    config=ConfigurationManager()\n",
    "    data_ingestion_config=config.get_data_ingestion_config()\n",
    "    data_ingestion=DataIngestion(config=data_ingestion_config)\n",
    "    data_ingestion.download_file()\n",
    "    data_ingestion.extract_zip_file()\n",
    "except Exception as e:\n",
    "    raise e"
   ]
  },
  {
   "cell_type": "code",
   "execution_count": null,
   "metadata": {},
   "outputs": [],
   "source": []
  }
 ],
 "metadata": {
  "kernelspec": {
   "display_name": ".venv",
   "language": "python",
   "name": "python3"
  },
  "language_info": {
   "codemirror_mode": {
    "name": "ipython",
    "version": 3
   },
   "file_extension": ".py",
   "mimetype": "text/x-python",
   "name": "python",
   "nbconvert_exporter": "python",
   "pygments_lexer": "ipython3",
   "version": "3.9.5"
  },
  "orig_nbformat": 4
 },
 "nbformat": 4,
 "nbformat_minor": 2
}
